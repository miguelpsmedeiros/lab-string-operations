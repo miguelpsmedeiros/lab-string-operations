{
  "nbformat": 4,
  "nbformat_minor": 0,
  "metadata": {
    "colab": {
      "name": "string lab challenge 2",
      "provenance": [],
      "collapsed_sections": [],
      "authorship_tag": "ABX9TyM/mSDRXBqQ4Byk+MCVl4cC",
      "include_colab_link": true
    },
    "kernelspec": {
      "name": "python3",
      "display_name": "Python 3"
    },
    "language_info": {
      "name": "python"
    }
  },
  "cells": [
    {
      "cell_type": "markdown",
      "metadata": {
        "id": "view-in-github",
        "colab_type": "text"
      },
      "source": [
        "<a href=\"https://colab.research.google.com/github/miguelpsmedeiros/lab-string-operations/blob/master/string_lab_challenge_2.ipynb\" target=\"_parent\"><img src=\"https://colab.research.google.com/assets/colab-badge.svg\" alt=\"Open In Colab\"/></a>"
      ]
    },
    {
      "cell_type": "code",
      "metadata": {
        "id": "5b3LhF71wdZf"
      },
      "source": [
        "#1\n",
        "\n",
        "docs = [\"doc1.txt\", \"doc2.txt\", \"doc3.txt\"]"
      ],
      "execution_count": null,
      "outputs": []
    },
    {
      "cell_type": "code",
      "metadata": {
        "colab": {
          "base_uri": "https://localhost:8080/"
        },
        "id": "2Vt_CENs84hp",
        "outputId": "83abf32b-79f3-4a7a-ff4f-20c7868ddffe"
      },
      "source": [
        "#2 e #3\n",
        "\n",
        "corpus = []\n",
        "\n",
        "for doc in docs:\n",
        "\n",
        "  open_doc = open(doc, 'r')\n",
        "  corpus = corpus + open_doc.readlines()\n",
        "  open_doc.close()\n",
        "\n",
        "print(corpus)"
      ],
      "execution_count": null,
      "outputs": [
        {
          "output_type": "stream",
          "text": [
            "['Ironhack is cool.', 'I love Ironhack.', 'I am a student at Ironhack.']\n"
          ],
          "name": "stdout"
        }
      ]
    },
    {
      "cell_type": "code",
      "metadata": {
        "colab": {
          "base_uri": "https://localhost:8080/"
        },
        "id": "5Awq3-3T_f9Z",
        "outputId": "8cddd84d-3841-4782-bc3c-2ae893f26eb9"
      },
      "source": [
        "#4\n",
        "\n",
        "corpus_1 = []\n",
        "\n",
        "for sentence in corpus:\n",
        "\n",
        "  sentence_1 = sentence.replace(\".\",\"\")\n",
        "\n",
        "  corpus_1.append(sentence_1.lower())\n",
        "\n",
        "print(corpus_1)"
      ],
      "execution_count": null,
      "outputs": [
        {
          "output_type": "stream",
          "text": [
            "['ironhack is cool', 'i love ironhack', 'i am a student at ironhack']\n"
          ],
          "name": "stdout"
        }
      ]
    },
    {
      "cell_type": "code",
      "metadata": {
        "colab": {
          "base_uri": "https://localhost:8080/"
        },
        "id": "e7N6-39hgSaO",
        "outputId": "c3ad0dc1-1721-4108-84cf-e9d11cc61626"
      },
      "source": [
        "#5\n",
        "\n",
        "bag_of_words = []\n",
        "\n",
        "sentence_1 = []\n",
        "\n",
        "for sentence in corpus_1:\n",
        "\n",
        "  sentence_1 = sentence_1 + sentence.split(\" \")\n",
        "\n",
        "for i in range(len(sentence_1)):\n",
        "  if sentence_1[i] not in bag_of_words:\n",
        "    bag_of_words.append(sentence_1[i])\n",
        "  else:\n",
        "    continue\n",
        "    \n",
        "print(bag_of_words)\n"
      ],
      "execution_count": null,
      "outputs": [
        {
          "output_type": "stream",
          "text": [
            "['ironhack', 'is', 'cool', 'i', 'love', 'am', 'a', 'student', 'at']\n"
          ],
          "name": "stdout"
        }
      ]
    },
    {
      "cell_type": "code",
      "metadata": {
        "colab": {
          "base_uri": "https://localhost:8080/"
        },
        "id": "YesHH02FxJJ4",
        "outputId": "a0395fc6-d2dc-4d2c-c70a-0a64c21e6155"
      },
      "source": [
        "#6 e #7\n",
        "\n",
        "term_freq = []\n",
        "\n",
        "for sentence in corpus_1:\n",
        "  term_freq_sent = []\n",
        "  for word_unique in bag_of_words:\n",
        "    if word_unique not in sentence:\n",
        "      term_freq_sent.append(0)\n",
        "    else:\n",
        "      term_freq_sent.append(1)\n",
        "  term_freq.append(term_freq_sent)\n",
        "\n",
        "print(term_freq)"
      ],
      "execution_count": null,
      "outputs": [
        {
          "output_type": "stream",
          "text": [
            "[[1, 1, 1, 1, 0, 0, 1, 0, 0], [1, 0, 0, 1, 1, 0, 1, 0, 0], [1, 0, 0, 1, 0, 1, 1, 1, 1]]\n"
          ],
          "name": "stdout"
        }
      ]
    }
  ]
}