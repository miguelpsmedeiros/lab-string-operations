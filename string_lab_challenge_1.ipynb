{
  "nbformat": 4,
  "nbformat_minor": 0,
  "metadata": {
    "colab": {
      "name": "string lab challenge 1",
      "provenance": [],
      "collapsed_sections": [],
      "authorship_tag": "ABX9TyNs9L/uXMNKz/QsOhgXDZF4",
      "include_colab_link": true
    },
    "kernelspec": {
      "name": "python3",
      "display_name": "Python 3"
    },
    "language_info": {
      "name": "python"
    }
  },
  "cells": [
    {
      "cell_type": "markdown",
      "metadata": {
        "id": "view-in-github",
        "colab_type": "text"
      },
      "source": [
        "<a href=\"https://colab.research.google.com/github/miguelpsmedeiros/lab-string-operations/blob/master/string_lab_challenge_1.ipynb\" target=\"_parent\"><img src=\"https://colab.research.google.com/assets/colab-badge.svg\" alt=\"Open In Colab\"/></a>"
      ]
    },
    {
      "cell_type": "code",
      "metadata": {
        "id": "fxD8sQ84Ot3a"
      },
      "source": [
        "#CHALLENGE 1"
      ],
      "execution_count": null,
      "outputs": []
    },
    {
      "cell_type": "code",
      "metadata": {
        "colab": {
          "base_uri": "https://localhost:8080/"
        },
        "id": "9Aiss3LiwA-e",
        "outputId": "8237f92e-05cb-4a17-f4c2-7a0fa0eff308"
      },
      "source": [
        "#1\n",
        "\n",
        "import re\n",
        "\n",
        "str_list = ['Durante', 'un', 'tiempo', 'no', 'estuvo', 'segura', 'de', 'si', 'su', 'marido', 'era', 'su', 'marido']\n",
        "\n",
        "str_list.append(\".\")\n",
        "print(\" \".join(str_list))"
      ],
      "execution_count": null,
      "outputs": [
        {
          "output_type": "stream",
          "text": [
            "Durante un tiempo no estuvo segura de si su marido era su marido .\n"
          ],
          "name": "stdout"
        }
      ]
    },
    {
      "cell_type": "code",
      "metadata": {
        "colab": {
          "base_uri": "https://localhost:8080/"
        },
        "id": "92VWCCBL_eEE",
        "outputId": "ece8244d-1944-406b-e071-5b35b2fe3ae3"
      },
      "source": [
        "#2\n",
        "\n",
        "food_list = ['Bananas', 'Chocolate', 'bread', 'diapers', 'Ice Cream', 'Brownie Mix', 'broccoli']\n",
        "\n",
        "food_list_1 = []\n",
        "\n",
        "for item in food_list:\n",
        "  if item[0] == \"b\" or item[0] == \"B\":\n",
        "    food_list_1.append(item.lower())\n",
        "  else:\n",
        "    continue\n",
        "\n",
        "food_list_1.insert(0, \"Grocery list:\")\n",
        "\n",
        "food_list_1.append(\".\")\n",
        "\n",
        "print(\" ,\".join(food_list_1))"
      ],
      "execution_count": null,
      "outputs": [
        {
          "output_type": "stream",
          "text": [
            "Grocery list: ,bananas ,bread ,brownie mix ,broccoli ,.\n"
          ],
          "name": "stdout"
        }
      ]
    },
    {
      "cell_type": "code",
      "metadata": {
        "colab": {
          "base_uri": "https://localhost:8080/",
          "height": 35
        },
        "id": "TvYSp-WLGqLK",
        "outputId": "cf704720-eb70-4556-be2c-3c9c78276a73"
      },
      "source": [
        " #3\n",
        "import math\n",
        "from math import pi\n",
        "radius = 5\n",
        "A = 0\n",
        "\n",
        "def cricle_area(r):\n",
        "  A = pi*r**2\n",
        "  return f'The area of the circle with radius {radius} is {A}.'\n",
        "cricle_area(radius)"
      ],
      "execution_count": null,
      "outputs": [
        {
          "output_type": "execute_result",
          "data": {
            "application/vnd.google.colaboratory.intrinsic+json": {
              "type": "string"
            },
            "text/plain": [
              "'The area of the circle with radius 5 is 78.53981633974483.'"
            ]
          },
          "metadata": {
            "tags": []
          },
          "execution_count": 21
        }
      ]
    },
    {
      "cell_type": "code",
      "metadata": {
        "id": "A_9uH5wHOeSX"
      },
      "source": [
        "#CHALLENGE 2"
      ],
      "execution_count": null,
      "outputs": []
    },
    {
      "cell_type": "code",
      "metadata": {
        "colab": {
          "base_uri": "https://localhost:8080/"
        },
        "id": "sEigcvKuO1Nl",
        "outputId": "f28558bf-973d-457d-ef6e-67efdac73df6"
      },
      "source": [
        "#1\n",
        "\n",
        "poem = \"\"\"Some say the world will end in fire,\n",
        "Some say in ice.\n",
        "From what I’ve tasted of desire\n",
        "I hold with those who favor fire.\n",
        "But if it had to perish twice,\n",
        "I think I know enough of hate\n",
        "To say that for destruction ice\n",
        "Is also great\n",
        "And would suffice.\"\"\"\n",
        "\n",
        "poem_1 = poem.split(\" \")\n",
        "\n",
        "print(poem_1)"
      ],
      "execution_count": null,
      "outputs": [
        {
          "output_type": "stream",
          "text": [
            "['Some', 'say', 'the', 'world', 'will', 'end', 'in', 'fire,\\nSome', 'say', 'in', 'ice.\\nFrom', 'what', 'I’ve', 'tasted', 'of', 'desire\\nI', 'hold', 'with', 'those', 'who', 'favor', 'fire.\\nBut', 'if', 'it', 'had', 'to', 'perish', 'twice,\\nI', 'think', 'I', 'know', 'enough', 'of', 'hate\\nTo', 'say', 'that', 'for', 'destruction', 'ice\\nIs', 'also', 'great\\nAnd', 'would', 'suffice.']\n"
          ],
          "name": "stdout"
        }
      ]
    },
    {
      "cell_type": "code",
      "metadata": {
        "colab": {
          "base_uri": "https://localhost:8080/"
        },
        "id": "V6mYDmofRpZQ",
        "outputId": "1accd45f-3e08-4a77-aade-5c1cee922724"
      },
      "source": [
        "#1\n",
        "\n",
        "word_count = [poem_1.count(word) for word in poem_1]\n",
        "\n",
        "print(dict(list(zip(poem_1, word_count))))\n"
      ],
      "execution_count": null,
      "outputs": [
        {
          "output_type": "stream",
          "text": [
            "{'Some': 1, 'say': 3, 'the': 1, 'world': 1, 'will': 1, 'end': 1, 'in': 2, 'fire,\\nSome': 1, 'ice.\\nFrom': 1, 'what': 1, 'I’ve': 1, 'tasted': 1, 'of': 2, 'desire\\nI': 1, 'hold': 1, 'with': 1, 'those': 1, 'who': 1, 'favor': 1, 'fire.\\nBut': 1, 'if': 1, 'it': 1, 'had': 1, 'to': 1, 'perish': 1, 'twice,\\nI': 1, 'think': 1, 'I': 1, 'know': 1, 'enough': 1, 'hate\\nTo': 1, 'that': 1, 'for': 1, 'destruction': 1, 'ice\\nIs': 1, 'also': 1, 'great\\nAnd': 1, 'would': 1, 'suffice.': 1}\n"
          ],
          "name": "stdout"
        }
      ]
    },
    {
      "cell_type": "code",
      "metadata": {
        "colab": {
          "base_uri": "https://localhost:8080/"
        },
        "id": "Rri-R_eHUvJK",
        "outputId": "3a63dd16-f18b-4003-a9c0-60e699ddf39a"
      },
      "source": [
        "#2\n",
        "\n",
        "blacklist = ['and', 'as', 'an', 'a', 'the', 'in', 'it']\n",
        "\n",
        "poem = \"\"\"I was angry with my friend; \n",
        "I told my wrath, my wrath did end.\n",
        "I was angry with my foe: \n",
        "I told it not, my wrath did grow. \n",
        "\n",
        "And I waterd it in fears,\n",
        "Night & morning with my tears: \n",
        "And I sunned it with smiles,\n",
        "And with soft deceitful wiles. \n",
        "\n",
        "And it grew both day and night. \n",
        "Till it bore an apple bright. \n",
        "And my foe beheld it shine,\n",
        "And he knew that it was mine. \n",
        "\n",
        "And into my garden stole, \n",
        "When the night had veild the pole; \n",
        "In the morning glad I see; \n",
        "My foe outstretched beneath the tree.\"\"\"\n",
        "\n",
        "poem_l = list(poem.lower().split(\" \"))\n",
        "\n",
        "print(poem_l)"
      ],
      "execution_count": null,
      "outputs": [
        {
          "output_type": "stream",
          "text": [
            "['i', 'was', 'angry', 'with', 'my', 'friend;', '\\ni', 'told', 'my', 'wrath,', 'my', 'wrath', 'did', 'end.\\ni', 'was', 'angry', 'with', 'my', 'foe:', '\\ni', 'told', 'it', 'not,', 'my', 'wrath', 'did', 'grow.', '\\n\\nand', 'i', 'waterd', 'it', 'in', 'fears,\\nnight', '&', 'morning', 'with', 'my', 'tears:', '\\nand', 'i', 'sunned', 'it', 'with', 'smiles,\\nand', 'with', 'soft', 'deceitful', 'wiles.', '\\n\\nand', 'it', 'grew', 'both', 'day', 'and', 'night.', '\\ntill', 'it', 'bore', 'an', 'apple', 'bright.', '\\nand', 'my', 'foe', 'beheld', 'it', 'shine,\\nand', 'he', 'knew', 'that', 'it', 'was', 'mine.', '\\n\\nand', 'into', 'my', 'garden', 'stole,', '\\nwhen', 'the', 'night', 'had', 'veild', 'the', 'pole;', '\\nin', 'the', 'morning', 'glad', 'i', 'see;', '\\nmy', 'foe', 'outstretched', 'beneath', 'the', 'tree.']\n"
          ],
          "name": "stdout"
        }
      ]
    },
    {
      "cell_type": "code",
      "metadata": {
        "colab": {
          "base_uri": "https://localhost:8080/"
        },
        "id": "zweQIsLyXpA4",
        "outputId": "8b3d479a-58e3-4e72-e8d4-e82432a6bd7a"
      },
      "source": [
        "#2\n",
        "\n",
        "list_int = []\n",
        "\n",
        "list_int = set(poem_l) - set(blacklist)\n",
        "\n",
        "print(list_int)"
      ],
      "execution_count": null,
      "outputs": [
        {
          "output_type": "stream",
          "text": [
            "{'outstretched', 'wrath', 'waterd', 'both', '\\nmy', 'shine,\\nand', '\\nin', 'was', 'told', 'night.', 'did', '\\ntill', '\\nwhen', 'morning', 'grew', 'mine.', 'sunned', 'apple', 'fears,\\nnight', '\\n\\nand', 'he', 'bright.', '&', 'night', 'glad', 'i', 'that', 'deceitful', 'beheld', 'bore', 'garden', 'beneath', 'foe', 'angry', 'tears:', '\\nand', 'tree.', 'foe:', 'veild', 'into', 'see;', 'my', 'wrath,', 'had', 'not,', 'smiles,\\nand', 'stole,', 'grow.', '\\ni', 'friend;', 'wiles.', 'pole;', 'end.\\ni', 'with', 'soft', 'day', 'knew'}\n"
          ],
          "name": "stdout"
        }
      ]
    },
    {
      "cell_type": "code",
      "metadata": {
        "colab": {
          "base_uri": "https://localhost:8080/"
        },
        "id": "E_xzYAj8_hsh",
        "outputId": "c74b0b8d-0717-4488-af70-32d1dd85b700"
      },
      "source": [
        "#3\n",
        "\n",
        "import re\n",
        "\n",
        "poem = \"\"\"The apparition of these faces in the crowd;\n",
        "Petals on a wet, black bough.\"\"\"\n",
        "\n",
        "rule = \"[A-Z]\"\n",
        "\n",
        "re.findall(rule, poem)"
      ],
      "execution_count": null,
      "outputs": [
        {
          "output_type": "execute_result",
          "data": {
            "text/plain": [
              "['T', 'P']"
            ]
          },
          "metadata": {
            "tags": []
          },
          "execution_count": 25
        }
      ]
    },
    {
      "cell_type": "code",
      "metadata": {
        "id": "1F7d-L_hvTV6"
      },
      "source": [
        "#bonus challenge\n",
        "\n",
        "data = ['123abc', 'abc123', 'JohnSmith1', 'ABBY4', 'JANE']\n",
        "\n"
      ],
      "execution_count": null,
      "outputs": []
    }
  ]
}